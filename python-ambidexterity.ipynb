{
 "cells": [
  {
   "cell_type": "markdown",
   "id": "bbb1a98f",
   "metadata": {},
   "source": [
    "# Translating Between R and Python\n",
    "> Leveraging the underlying principles to understand code implementation\n",
    "\n",
    "Let's look at an example of some of the ways that we can leverage the underlying principles of Python, pandas, and numpy for easier implementation of data analysis tasks."
   ]
  },
  {
   "cell_type": "code",
   "execution_count": null,
   "id": "88120f9a",
   "metadata": {},
   "outputs": [],
   "source": [
    "#importing relevant libraries\n",
    "import pandas as pd\n",
    "import numpy as np\n",
    "import matplotlib.pyplot as plt\n",
    "import seaborn as sns"
   ]
  },
  {
   "cell_type": "markdown",
   "id": "666f37a7",
   "metadata": {},
   "source": [
    "# Data Analysis\n",
    "We have the following data summarizing the sports performances of a few players.  We want to perform some analysis to understand how the players are playing.\n",
    "## Jump right in\n",
    "First, we'll generate the data and take a look at it."
   ]
  },
  {
   "cell_type": "code",
   "execution_count": null,
   "id": "744fc690",
   "metadata": {},
   "outputs": [],
   "source": [
    "sports_df = pd.DataFrame({'player_name': ['Johnson', 'James', 'Aniston', 'Errol', 'Caine', 'Jamison'],\n",
    "                          'team': ['Tigers', 'Tigers', 'Lions', 'Lions', 'Lions', 'Bears'],\n",
    "                          'game_1': [12.2, 3.3, 32.5, 10.4, 8.45, 5.45],\n",
    "                          'game_2': [34, 45, 23, 13, 8, 24],\n",
    "                          'game_3': [14, 23, 76, 19, 26, 53]})\n",
    "sports_df.head()"
   ]
  },
  {
   "cell_type": "markdown",
   "id": "aa84e0f1",
   "metadata": {},
   "source": [
    "### Calculate the mean points per game"
   ]
  },
  {
   "cell_type": "code",
   "execution_count": null,
   "id": "583cab8b",
   "metadata": {},
   "outputs": [],
   "source": []
  },
  {
   "cell_type": "markdown",
   "id": "ae69c5dd",
   "metadata": {},
   "source": [
    "### Calculate the mean points per player and mutate a new column with these values"
   ]
  },
  {
   "cell_type": "code",
   "execution_count": null,
   "id": "623fb61b",
   "metadata": {},
   "outputs": [],
   "source": []
  },
  {
   "cell_type": "markdown",
   "id": "da95f69c",
   "metadata": {},
   "source": [
    "Now that we see that this works, let's mutate on the new column..."
   ]
  },
  {
   "cell_type": "code",
   "execution_count": null,
   "id": "40c34017",
   "metadata": {},
   "outputs": [],
   "source": []
  },
  {
   "cell_type": "markdown",
   "id": "be0d09f9",
   "metadata": {},
   "source": [
    "### Plot the overall game distributions"
   ]
  },
  {
   "cell_type": "code",
   "execution_count": null,
   "id": "cb7af512",
   "metadata": {},
   "outputs": [],
   "source": []
  },
  {
   "cell_type": "markdown",
   "id": "0390e0a8",
   "metadata": {},
   "source": [
    "This is SUPER simple as an analysis of this format.\n",
    "## An alternate strategy\n",
    "Let's see how this would look had the data looked a bit different when we got it."
   ]
  },
  {
   "cell_type": "code",
   "execution_count": null,
   "id": "a2be3b61",
   "metadata": {},
   "outputs": [],
   "source": [
    "sports_df_tidy = sports_df.melt(id_vars = ['player_name', 'team'], var_name='game_id', value_name = 'points_scored')\n",
    "sports_df_tidy.head(10)"
   ]
  },
  {
   "cell_type": "markdown",
   "id": "c1134c9f",
   "metadata": {},
   "source": [
    "### Mean points per game\n",
    "Now, it gets a litle harder, but not terrible.  Let's check, and we expect the process will look pretty similar to `dplyr` functionality."
   ]
  },
  {
   "cell_type": "code",
   "execution_count": null,
   "id": "82321076",
   "metadata": {},
   "outputs": [],
   "source": []
  },
  {
   "cell_type": "markdown",
   "id": "1daa62ec",
   "metadata": {},
   "source": [
    "### New column of mean points per player"
   ]
  },
  {
   "cell_type": "code",
   "execution_count": null,
   "id": "1ca0259b",
   "metadata": {},
   "outputs": [],
   "source": []
  },
  {
   "cell_type": "markdown",
   "id": "b1af75af",
   "metadata": {},
   "source": [
    "### Plot distribution of points scored per game"
   ]
  },
  {
   "cell_type": "code",
   "execution_count": null,
   "id": "f758945d",
   "metadata": {},
   "outputs": [],
   "source": []
  },
  {
   "cell_type": "code",
   "execution_count": null,
   "id": "6ebed15d",
   "metadata": {},
   "outputs": [],
   "source": []
  }
 ],
 "metadata": {
  "kernelspec": {
   "display_name": "Python 3",
   "language": "python",
   "name": "python3"
  }
 },
 "nbformat": 4,
 "nbformat_minor": 5
}
