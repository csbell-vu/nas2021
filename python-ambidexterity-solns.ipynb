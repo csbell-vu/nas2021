{
 "cells": [
  {
   "cell_type": "markdown",
   "id": "5d39a39e",
   "metadata": {},
   "source": [
    "# Translating Between R and Python\n",
    "> Leveraging the underlying principles to understand code implementation\n",
    "\n",
    "Let's look at an example of some of the ways that we can leverage the underlying principles of Python, pandas, and numpy for easier implementation of data analysis tasks."
   ]
  },
  {
   "cell_type": "code",
   "execution_count": null,
   "id": "e5d4757f",
   "metadata": {},
   "outputs": [],
   "source": [
    "#importing relevant libraries\n",
    "import pandas as pd\n",
    "import numpy as np\n",
    "import matplotlib.pyplot as plt\n",
    "import seaborn as sns"
   ]
  },
  {
   "cell_type": "markdown",
   "id": "667188fa",
   "metadata": {},
   "source": [
    "# Example 1: Data Analysis\n",
    "We have the following data summarizing the sports performances of a few players.  We want to perform some analysis to understand how the players are playing.\n",
    "## Jump right in\n",
    "First, we'll generate the data and take a look at it."
   ]
  },
  {
   "cell_type": "code",
   "execution_count": null,
   "id": "0ac6fd98",
   "metadata": {},
   "outputs": [
    {
     "data": {
      "text/html": [
       "<div>\n",
       "<style scoped>\n",
       "    .dataframe tbody tr th:only-of-type {\n",
       "        vertical-align: middle;\n",
       "    }\n",
       "\n",
       "    .dataframe tbody tr th {\n",
       "        vertical-align: top;\n",
       "    }\n",
       "\n",
       "    .dataframe thead th {\n",
       "        text-align: right;\n",
       "    }\n",
       "</style>\n",
       "<table border=\"1\" class=\"dataframe\">\n",
       "  <thead>\n",
       "    <tr style=\"text-align: right;\">\n",
       "      <th></th>\n",
       "      <th>player_name</th>\n",
       "      <th>team</th>\n",
       "      <th>game_1</th>\n",
       "      <th>game_2</th>\n",
       "      <th>game_3</th>\n",
       "    </tr>\n",
       "  </thead>\n",
       "  <tbody>\n",
       "    <tr>\n",
       "      <th>0</th>\n",
       "      <td>Johnson</td>\n",
       "      <td>Tigers</td>\n",
       "      <td>12.20</td>\n",
       "      <td>34</td>\n",
       "      <td>14</td>\n",
       "    </tr>\n",
       "    <tr>\n",
       "      <th>1</th>\n",
       "      <td>James</td>\n",
       "      <td>Tigers</td>\n",
       "      <td>3.30</td>\n",
       "      <td>45</td>\n",
       "      <td>23</td>\n",
       "    </tr>\n",
       "    <tr>\n",
       "      <th>2</th>\n",
       "      <td>Aniston</td>\n",
       "      <td>Lions</td>\n",
       "      <td>32.50</td>\n",
       "      <td>23</td>\n",
       "      <td>76</td>\n",
       "    </tr>\n",
       "    <tr>\n",
       "      <th>3</th>\n",
       "      <td>Errol</td>\n",
       "      <td>Lions</td>\n",
       "      <td>10.40</td>\n",
       "      <td>13</td>\n",
       "      <td>19</td>\n",
       "    </tr>\n",
       "    <tr>\n",
       "      <th>4</th>\n",
       "      <td>Caine</td>\n",
       "      <td>Lions</td>\n",
       "      <td>8.45</td>\n",
       "      <td>8</td>\n",
       "      <td>26</td>\n",
       "    </tr>\n",
       "  </tbody>\n",
       "</table>\n",
       "</div>"
      ],
      "text/plain": [
       "  player_name    team  game_1  game_2  game_3\n",
       "0     Johnson  Tigers   12.20      34      14\n",
       "1       James  Tigers    3.30      45      23\n",
       "2     Aniston   Lions   32.50      23      76\n",
       "3       Errol   Lions   10.40      13      19\n",
       "4       Caine   Lions    8.45       8      26"
      ]
     },
     "execution_count": null,
     "metadata": {},
     "output_type": "execute_result"
    }
   ],
   "source": [
    "sports_df = pd.DataFrame({'player_name': ['Johnson', 'James', 'Aniston', 'Errol', 'Caine', 'Jamison'],\n",
    "                          'team': ['Tigers', 'Tigers', 'Lions', 'Lions', 'Lions', 'Bears'],\n",
    "                          'game_1': [12.2, 3.3, 32.5, 10.4, 8.45, 5.45],\n",
    "                          'game_2': [34, 45, 23, 13, 8, 24],\n",
    "                          'game_3': [14, 23, 76, 19, 26, 53]})\n",
    "sports_df.head()"
   ]
  },
  {
   "cell_type": "markdown",
   "id": "6e36b653",
   "metadata": {},
   "source": [
    "### Calculate the mean points per game"
   ]
  },
  {
   "cell_type": "code",
   "execution_count": null,
   "id": "35c723ec",
   "metadata": {},
   "outputs": [
    {
     "data": {
      "text/plain": [
       "game_1    12.050000\n",
       "game_2    24.500000\n",
       "game_3    35.166667\n",
       "dtype: float64"
      ]
     },
     "execution_count": null,
     "metadata": {},
     "output_type": "execute_result"
    }
   ],
   "source": [
    "sports_df.mean(numeric_only=True)"
   ]
  },
  {
   "cell_type": "markdown",
   "id": "f3b3221a",
   "metadata": {},
   "source": [
    "### Calculate the mean points per player and mutate a new column with these values"
   ]
  },
  {
   "cell_type": "code",
   "execution_count": null,
   "id": "0e29be10",
   "metadata": {},
   "outputs": [
    {
     "data": {
      "text/plain": [
       "0    20.066667\n",
       "1    23.766667\n",
       "2    43.833333\n",
       "3    14.133333\n",
       "4    14.150000\n",
       "5    27.483333\n",
       "dtype: float64"
      ]
     },
     "execution_count": null,
     "metadata": {},
     "output_type": "execute_result"
    }
   ],
   "source": [
    "sports_df.mean(axis=1, numeric_only=True)"
   ]
  },
  {
   "cell_type": "markdown",
   "id": "77f1c92b",
   "metadata": {},
   "source": [
    "Now that we see that this works, let's mutate on the new column..."
   ]
  },
  {
   "cell_type": "code",
   "execution_count": null,
   "id": "29fc34ec",
   "metadata": {},
   "outputs": [
    {
     "data": {
      "text/html": [
       "<div>\n",
       "<style scoped>\n",
       "    .dataframe tbody tr th:only-of-type {\n",
       "        vertical-align: middle;\n",
       "    }\n",
       "\n",
       "    .dataframe tbody tr th {\n",
       "        vertical-align: top;\n",
       "    }\n",
       "\n",
       "    .dataframe thead th {\n",
       "        text-align: right;\n",
       "    }\n",
       "</style>\n",
       "<table border=\"1\" class=\"dataframe\">\n",
       "  <thead>\n",
       "    <tr style=\"text-align: right;\">\n",
       "      <th></th>\n",
       "      <th>player_name</th>\n",
       "      <th>team</th>\n",
       "      <th>game_1</th>\n",
       "      <th>game_2</th>\n",
       "      <th>game_3</th>\n",
       "      <th>player_means</th>\n",
       "    </tr>\n",
       "  </thead>\n",
       "  <tbody>\n",
       "    <tr>\n",
       "      <th>0</th>\n",
       "      <td>Johnson</td>\n",
       "      <td>Tigers</td>\n",
       "      <td>12.20</td>\n",
       "      <td>34</td>\n",
       "      <td>14</td>\n",
       "      <td>20.066667</td>\n",
       "    </tr>\n",
       "    <tr>\n",
       "      <th>1</th>\n",
       "      <td>James</td>\n",
       "      <td>Tigers</td>\n",
       "      <td>3.30</td>\n",
       "      <td>45</td>\n",
       "      <td>23</td>\n",
       "      <td>23.766667</td>\n",
       "    </tr>\n",
       "    <tr>\n",
       "      <th>2</th>\n",
       "      <td>Aniston</td>\n",
       "      <td>Lions</td>\n",
       "      <td>32.50</td>\n",
       "      <td>23</td>\n",
       "      <td>76</td>\n",
       "      <td>43.833333</td>\n",
       "    </tr>\n",
       "    <tr>\n",
       "      <th>3</th>\n",
       "      <td>Errol</td>\n",
       "      <td>Lions</td>\n",
       "      <td>10.40</td>\n",
       "      <td>13</td>\n",
       "      <td>19</td>\n",
       "      <td>14.133333</td>\n",
       "    </tr>\n",
       "    <tr>\n",
       "      <th>4</th>\n",
       "      <td>Caine</td>\n",
       "      <td>Lions</td>\n",
       "      <td>8.45</td>\n",
       "      <td>8</td>\n",
       "      <td>26</td>\n",
       "      <td>14.150000</td>\n",
       "    </tr>\n",
       "  </tbody>\n",
       "</table>\n",
       "</div>"
      ],
      "text/plain": [
       "  player_name    team  game_1  game_2  game_3  player_means\n",
       "0     Johnson  Tigers   12.20      34      14     20.066667\n",
       "1       James  Tigers    3.30      45      23     23.766667\n",
       "2     Aniston   Lions   32.50      23      76     43.833333\n",
       "3       Errol   Lions   10.40      13      19     14.133333\n",
       "4       Caine   Lions    8.45       8      26     14.150000"
      ]
     },
     "execution_count": null,
     "metadata": {},
     "output_type": "execute_result"
    }
   ],
   "source": [
    "#copy the underlying dataframe for simplicity\n",
    "mutated_df = sports_df.copy()\n",
    "\n",
    "#mutate the column\n",
    "mutated_df['player_means'] = mutated_df.mean(axis=1, numeric_only=True)\n",
    "mutated_df.head()"
   ]
  },
  {
   "cell_type": "markdown",
   "id": "67fd0b52",
   "metadata": {},
   "source": [
    "### Plot the overall game distributions"
   ]
  },
  {
   "cell_type": "code",
   "execution_count": null,
   "id": "a095bc66",
   "metadata": {},
   "outputs": [
    {
     "data": {
      "image/png": "[encoded data removed]",
      "text/plain": [
       "<Figure size 432x288 with 1 Axes>"
      ]
     },
     "metadata": {
      "needs_background": "light"
     },
     "output_type": "display_data"
    }
   ],
   "source": [
    "sports_df[['game_1', 'game_2', 'game_3']].plot(kind='box');"
   ]
  },
  {
   "cell_type": "markdown",
   "id": "eb819bf8",
   "metadata": {},
   "source": [
    "This is SUPER simple as an analysis of this format.\n",
    "## An alternate strategy\n",
    "Let's see how this would look had the data looked a bit different when we got it."
   ]
  },
  {
   "cell_type": "code",
   "execution_count": null,
   "id": "568d3211",
   "metadata": {},
   "outputs": [
    {
     "data": {
      "text/html": [
       "<div>\n",
       "<style scoped>\n",
       "    .dataframe tbody tr th:only-of-type {\n",
       "        vertical-align: middle;\n",
       "    }\n",
       "\n",
       "    .dataframe tbody tr th {\n",
       "        vertical-align: top;\n",
       "    }\n",
       "\n",
       "    .dataframe thead th {\n",
       "        text-align: right;\n",
       "    }\n",
       "</style>\n",
       "<table border=\"1\" class=\"dataframe\">\n",
       "  <thead>\n",
       "    <tr style=\"text-align: right;\">\n",
       "      <th></th>\n",
       "      <th>player_name</th>\n",
       "      <th>team</th>\n",
       "      <th>game_id</th>\n",
       "      <th>points_scored</th>\n",
       "    </tr>\n",
       "  </thead>\n",
       "  <tbody>\n",
       "    <tr>\n",
       "      <th>0</th>\n",
       "      <td>Johnson</td>\n",
       "      <td>Tigers</td>\n",
       "      <td>game_1</td>\n",
       "      <td>12.20</td>\n",
       "    </tr>\n",
       "    <tr>\n",
       "      <th>1</th>\n",
       "      <td>James</td>\n",
       "      <td>Tigers</td>\n",
       "      <td>game_1</td>\n",
       "      <td>3.30</td>\n",
       "    </tr>\n",
       "    <tr>\n",
       "      <th>2</th>\n",
       "      <td>Aniston</td>\n",
       "      <td>Lions</td>\n",
       "      <td>game_1</td>\n",
       "      <td>32.50</td>\n",
       "    </tr>\n",
       "    <tr>\n",
       "      <th>3</th>\n",
       "      <td>Errol</td>\n",
       "      <td>Lions</td>\n",
       "      <td>game_1</td>\n",
       "      <td>10.40</td>\n",
       "    </tr>\n",
       "    <tr>\n",
       "      <th>4</th>\n",
       "      <td>Caine</td>\n",
       "      <td>Lions</td>\n",
       "      <td>game_1</td>\n",
       "      <td>8.45</td>\n",
       "    </tr>\n",
       "    <tr>\n",
       "      <th>5</th>\n",
       "      <td>Jamison</td>\n",
       "      <td>Bears</td>\n",
       "      <td>game_1</td>\n",
       "      <td>5.45</td>\n",
       "    </tr>\n",
       "    <tr>\n",
       "      <th>6</th>\n",
       "      <td>Johnson</td>\n",
       "      <td>Tigers</td>\n",
       "      <td>game_2</td>\n",
       "      <td>34.00</td>\n",
       "    </tr>\n",
       "    <tr>\n",
       "      <th>7</th>\n",
       "      <td>James</td>\n",
       "      <td>Tigers</td>\n",
       "      <td>game_2</td>\n",
       "      <td>45.00</td>\n",
       "    </tr>\n",
       "    <tr>\n",
       "      <th>8</th>\n",
       "      <td>Aniston</td>\n",
       "      <td>Lions</td>\n",
       "      <td>game_2</td>\n",
       "      <td>23.00</td>\n",
       "    </tr>\n",
       "    <tr>\n",
       "      <th>9</th>\n",
       "      <td>Errol</td>\n",
       "      <td>Lions</td>\n",
       "      <td>game_2</td>\n",
       "      <td>13.00</td>\n",
       "    </tr>\n",
       "  </tbody>\n",
       "</table>\n",
       "</div>"
      ],
      "text/plain": [
       "  player_name    team game_id  points_scored\n",
       "0     Johnson  Tigers  game_1          12.20\n",
       "1       James  Tigers  game_1           3.30\n",
       "2     Aniston   Lions  game_1          32.50\n",
       "3       Errol   Lions  game_1          10.40\n",
       "4       Caine   Lions  game_1           8.45\n",
       "5     Jamison   Bears  game_1           5.45\n",
       "6     Johnson  Tigers  game_2          34.00\n",
       "7       James  Tigers  game_2          45.00\n",
       "8     Aniston   Lions  game_2          23.00\n",
       "9       Errol   Lions  game_2          13.00"
      ]
     },
     "execution_count": null,
     "metadata": {},
     "output_type": "execute_result"
    }
   ],
   "source": [
    "sports_df_tidy = sports_df.melt(id_vars = ['player_name', 'team'], var_name='game_id', value_name = 'points_scored')\n",
    "sports_df_tidy.head(10)"
   ]
  },
  {
   "cell_type": "markdown",
   "id": "b68396ba",
   "metadata": {},
   "source": [
    "### Mean points per game\n",
    "Now, it gets a litle harder, but not terrible.  Let's check, and we expect the process will look pretty similar to `dplyr` functionality."
   ]
  },
  {
   "cell_type": "code",
   "execution_count": null,
   "id": "fa8b834b",
   "metadata": {},
   "outputs": [
    {
     "data": {
      "text/html": [
       "<div>\n",
       "<style scoped>\n",
       "    .dataframe tbody tr th:only-of-type {\n",
       "        vertical-align: middle;\n",
       "    }\n",
       "\n",
       "    .dataframe tbody tr th {\n",
       "        vertical-align: top;\n",
       "    }\n",
       "\n",
       "    .dataframe thead th {\n",
       "        text-align: right;\n",
       "    }\n",
       "</style>\n",
       "<table border=\"1\" class=\"dataframe\">\n",
       "  <thead>\n",
       "    <tr style=\"text-align: right;\">\n",
       "      <th></th>\n",
       "      <th>points_scored</th>\n",
       "    </tr>\n",
       "    <tr>\n",
       "      <th>game_id</th>\n",
       "      <th></th>\n",
       "    </tr>\n",
       "  </thead>\n",
       "  <tbody>\n",
       "    <tr>\n",
       "      <th>game_1</th>\n",
       "      <td>12.050000</td>\n",
       "    </tr>\n",
       "    <tr>\n",
       "      <th>game_2</th>\n",
       "      <td>24.500000</td>\n",
       "    </tr>\n",
       "    <tr>\n",
       "      <th>game_3</th>\n",
       "      <td>35.166667</td>\n",
       "    </tr>\n",
       "  </tbody>\n",
       "</table>\n",
       "</div>"
      ],
      "text/plain": [
       "         points_scored\n",
       "game_id               \n",
       "game_1       12.050000\n",
       "game_2       24.500000\n",
       "game_3       35.166667"
      ]
     },
     "execution_count": null,
     "metadata": {},
     "output_type": "execute_result"
    }
   ],
   "source": [
    "sports_df_tidy.groupby('game_id').mean()"
   ]
  },
  {
   "cell_type": "markdown",
   "id": "3cfbdf2a",
   "metadata": {},
   "source": [
    "### New column of mean points per player"
   ]
  },
  {
   "cell_type": "code",
   "execution_count": null,
   "id": "a3c77c26",
   "metadata": {},
   "outputs": [
    {
     "data": {
      "text/html": [
       "<div>\n",
       "<style scoped>\n",
       "    .dataframe tbody tr th:only-of-type {\n",
       "        vertical-align: middle;\n",
       "    }\n",
       "\n",
       "    .dataframe tbody tr th {\n",
       "        vertical-align: top;\n",
       "    }\n",
       "\n",
       "    .dataframe thead th {\n",
       "        text-align: right;\n",
       "    }\n",
       "</style>\n",
       "<table border=\"1\" class=\"dataframe\">\n",
       "  <thead>\n",
       "    <tr style=\"text-align: right;\">\n",
       "      <th></th>\n",
       "      <th>player_name</th>\n",
       "      <th>team</th>\n",
       "      <th>game_id</th>\n",
       "      <th>points_scored</th>\n",
       "      <th>player_means</th>\n",
       "    </tr>\n",
       "  </thead>\n",
       "  <tbody>\n",
       "    <tr>\n",
       "      <th>8</th>\n",
       "      <td>Aniston</td>\n",
       "      <td>Lions</td>\n",
       "      <td>game_2</td>\n",
       "      <td>23.00</td>\n",
       "      <td>43.833333</td>\n",
       "    </tr>\n",
       "    <tr>\n",
       "      <th>2</th>\n",
       "      <td>Aniston</td>\n",
       "      <td>Lions</td>\n",
       "      <td>game_1</td>\n",
       "      <td>32.50</td>\n",
       "      <td>43.833333</td>\n",
       "    </tr>\n",
       "    <tr>\n",
       "      <th>14</th>\n",
       "      <td>Aniston</td>\n",
       "      <td>Lions</td>\n",
       "      <td>game_3</td>\n",
       "      <td>76.00</td>\n",
       "      <td>43.833333</td>\n",
       "    </tr>\n",
       "    <tr>\n",
       "      <th>4</th>\n",
       "      <td>Caine</td>\n",
       "      <td>Lions</td>\n",
       "      <td>game_1</td>\n",
       "      <td>8.45</td>\n",
       "      <td>14.150000</td>\n",
       "    </tr>\n",
       "    <tr>\n",
       "      <th>16</th>\n",
       "      <td>Caine</td>\n",
       "      <td>Lions</td>\n",
       "      <td>game_3</td>\n",
       "      <td>26.00</td>\n",
       "      <td>14.150000</td>\n",
       "    </tr>\n",
       "    <tr>\n",
       "      <th>10</th>\n",
       "      <td>Caine</td>\n",
       "      <td>Lions</td>\n",
       "      <td>game_2</td>\n",
       "      <td>8.00</td>\n",
       "      <td>14.150000</td>\n",
       "    </tr>\n",
       "    <tr>\n",
       "      <th>3</th>\n",
       "      <td>Errol</td>\n",
       "      <td>Lions</td>\n",
       "      <td>game_1</td>\n",
       "      <td>10.40</td>\n",
       "      <td>14.133333</td>\n",
       "    </tr>\n",
       "    <tr>\n",
       "      <th>15</th>\n",
       "      <td>Errol</td>\n",
       "      <td>Lions</td>\n",
       "      <td>game_3</td>\n",
       "      <td>19.00</td>\n",
       "      <td>14.133333</td>\n",
       "    </tr>\n",
       "    <tr>\n",
       "      <th>9</th>\n",
       "      <td>Errol</td>\n",
       "      <td>Lions</td>\n",
       "      <td>game_2</td>\n",
       "      <td>13.00</td>\n",
       "      <td>14.133333</td>\n",
       "    </tr>\n",
       "    <tr>\n",
       "      <th>1</th>\n",
       "      <td>James</td>\n",
       "      <td>Tigers</td>\n",
       "      <td>game_1</td>\n",
       "      <td>3.30</td>\n",
       "      <td>23.766667</td>\n",
       "    </tr>\n",
       "    <tr>\n",
       "      <th>7</th>\n",
       "      <td>James</td>\n",
       "      <td>Tigers</td>\n",
       "      <td>game_2</td>\n",
       "      <td>45.00</td>\n",
       "      <td>23.766667</td>\n",
       "    </tr>\n",
       "    <tr>\n",
       "      <th>13</th>\n",
       "      <td>James</td>\n",
       "      <td>Tigers</td>\n",
       "      <td>game_3</td>\n",
       "      <td>23.00</td>\n",
       "      <td>23.766667</td>\n",
       "    </tr>\n",
       "    <tr>\n",
       "      <th>17</th>\n",
       "      <td>Jamison</td>\n",
       "      <td>Bears</td>\n",
       "      <td>game_3</td>\n",
       "      <td>53.00</td>\n",
       "      <td>27.483333</td>\n",
       "    </tr>\n",
       "    <tr>\n",
       "      <th>11</th>\n",
       "      <td>Jamison</td>\n",
       "      <td>Bears</td>\n",
       "      <td>game_2</td>\n",
       "      <td>24.00</td>\n",
       "      <td>27.483333</td>\n",
       "    </tr>\n",
       "    <tr>\n",
       "      <th>5</th>\n",
       "      <td>Jamison</td>\n",
       "      <td>Bears</td>\n",
       "      <td>game_1</td>\n",
       "      <td>5.45</td>\n",
       "      <td>27.483333</td>\n",
       "    </tr>\n",
       "    <tr>\n",
       "      <th>6</th>\n",
       "      <td>Johnson</td>\n",
       "      <td>Tigers</td>\n",
       "      <td>game_2</td>\n",
       "      <td>34.00</td>\n",
       "      <td>20.066667</td>\n",
       "    </tr>\n",
       "    <tr>\n",
       "      <th>12</th>\n",
       "      <td>Johnson</td>\n",
       "      <td>Tigers</td>\n",
       "      <td>game_3</td>\n",
       "      <td>14.00</td>\n",
       "      <td>20.066667</td>\n",
       "    </tr>\n",
       "    <tr>\n",
       "      <th>0</th>\n",
       "      <td>Johnson</td>\n",
       "      <td>Tigers</td>\n",
       "      <td>game_1</td>\n",
       "      <td>12.20</td>\n",
       "      <td>20.066667</td>\n",
       "    </tr>\n",
       "  </tbody>\n",
       "</table>\n",
       "</div>"
      ],
      "text/plain": [
       "   player_name    team game_id  points_scored  player_means\n",
       "8      Aniston   Lions  game_2          23.00     43.833333\n",
       "2      Aniston   Lions  game_1          32.50     43.833333\n",
       "14     Aniston   Lions  game_3          76.00     43.833333\n",
       "4        Caine   Lions  game_1           8.45     14.150000\n",
       "16       Caine   Lions  game_3          26.00     14.150000\n",
       "10       Caine   Lions  game_2           8.00     14.150000\n",
       "3        Errol   Lions  game_1          10.40     14.133333\n",
       "15       Errol   Lions  game_3          19.00     14.133333\n",
       "9        Errol   Lions  game_2          13.00     14.133333\n",
       "1        James  Tigers  game_1           3.30     23.766667\n",
       "7        James  Tigers  game_2          45.00     23.766667\n",
       "13       James  Tigers  game_3          23.00     23.766667\n",
       "17     Jamison   Bears  game_3          53.00     27.483333\n",
       "11     Jamison   Bears  game_2          24.00     27.483333\n",
       "5      Jamison   Bears  game_1           5.45     27.483333\n",
       "6      Johnson  Tigers  game_2          34.00     20.066667\n",
       "12     Johnson  Tigers  game_3          14.00     20.066667\n",
       "0      Johnson  Tigers  game_1          12.20     20.066667"
      ]
     },
     "execution_count": null,
     "metadata": {},
     "output_type": "execute_result"
    }
   ],
   "source": [
    "#copy for simplicity\n",
    "mutate_df_tidy = sports_df_tidy.copy()\n",
    "\n",
    "#mutate another column\n",
    "mutate_df_tidy['player_means'] = mutate_df_tidy.groupby(['player_name', 'team'])['points_scored'].transform(lambda x: x.mean())\n",
    "mutate_df_tidy.sort_values('player_name')"
   ]
  },
  {
   "cell_type": "markdown",
   "id": "0eb72be3",
   "metadata": {},
   "source": [
    "Mutating new columns based on a groupby tends to be a more unpleasant task (in my opinion) with long data in pandas.  For this reason, I often prefer wide data in Python if possible.  However, the next section defines why I tend to switch to long data if I have complex plots to create."
   ]
  },
  {
   "cell_type": "markdown",
   "id": "e77e0309",
   "metadata": {},
   "source": [
    "### Plot distribution of points scored per game\n",
    "This is a little hard without switching to another package.  I'll switch to seaborn here which is more conducive to plotting different forms of data.  Let's try it here with a more program-y approach..."
   ]
  },
  {
   "cell_type": "code",
   "execution_count": null,
   "id": "8c1543a8",
   "metadata": {},
   "outputs": [
    {
     "data": {
      "image/png": "[encoded data removed]",
      "text/plain": [
       "<Figure size 432x288 with 1 Axes>"
      ]
     },
     "metadata": {
      "needs_background": "light"
     },
     "output_type": "display_data"
    }
   ],
   "source": [
    "sns.boxplot(x=sports_df_tidy['game_id'], y=sports_df_tidy['points_scored'], hue=sports_df_tidy['game_id']);"
   ]
  },
  {
   "cell_type": "markdown",
   "id": "24cecf4a",
   "metadata": {},
   "source": [
    "The below approach is more reminiscent of ggplot. I use this more if I ever MUST use long data."
   ]
  },
  {
   "cell_type": "code",
   "execution_count": null,
   "id": "5cedb08e",
   "metadata": {},
   "outputs": [
    {
     "data": {
      "image/png": "[encoded data removed]",
      "text/plain": [
       "<Figure size 432x288 with 1 Axes>"
      ]
     },
     "metadata": {
      "needs_background": "light"
     },
     "output_type": "display_data"
    }
   ],
   "source": [
    "sns.boxplot(data = sports_df_tidy, x='game_id', y='points_scored', hue='game_id');"
   ]
  }
 ],
 "metadata": {
  "kernelspec": {
   "display_name": "Python 3",
   "language": "python",
   "name": "python3"
  }
 },
 "nbformat": 4,
 "nbformat_minor": 5
}
